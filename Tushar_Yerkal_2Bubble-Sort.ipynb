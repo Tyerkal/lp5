{
 "cells": [
  {
   "cell_type": "code",
   "execution_count": null,
   "id": "67880f8b",
   "metadata": {},
   "outputs": [
    {
     "name": "stdout",
     "output_type": "stream",
     "text": [
      "Enter size of array: 8\n",
      "Initial Array: [159, 431, 985, 704, 731, 206, 930, 171]\n",
      "Sequential Bubble Sort Result: [159, 171, 206, 431, 704, 731, 930, 985]\n",
      "Time Required (Sequential): 0.0\n"
     ]
    }
   ],
   "source": [
    "import random\n",
    "import time\n",
    "from multiprocessing import Pool\n",
    "\n",
    "def sequential_bubble_sort(arr):\n",
    "    start_time = time.time()\n",
    "    n = len(arr)\n",
    "    for i in range(n):\n",
    "        for j in range(0, n-i-1):\n",
    "            if arr[j] > arr[j+1]:\n",
    "                arr[j], arr[j+1] = arr[j+1], arr[j]\n",
    "    end_time = time.time()\n",
    "    return arr, end_time - start_time\n",
    "\n",
    "def parallel_bubble_sort(arr):\n",
    "    start_time = time.time()\n",
    "    n = len(arr)\n",
    "    for i in range(n):\n",
    "        with Pool() as pool:\n",
    "            pool.starmap(compare_and_swap, [(arr, j) for j in range(0, n-i-1)])\n",
    "    end_time = time.time()\n",
    "    return arr, end_time - start_time\n",
    "\n",
    "def compare_and_swap(arr, j):\n",
    "    if arr[j] > arr[j+1]:\n",
    "        arr[j], arr[j+1] = arr[j+1], arr[j]\n",
    "\n",
    "if __name__ == \"__main__\":\n",
    "    SIZE = int(input(\"Enter size of array: \"))\n",
    "    MAX = 1000\n",
    "    array = [random.randint(0, MAX) for _ in range(SIZE)]\n",
    "    print(\"Initial Array:\", array)\n",
    "\n",
    "    sorted_seq, time_seq = sequential_bubble_sort(array.copy())\n",
    "    print(\"Sequential Bubble Sort Result:\", sorted_seq)\n",
    "    print(\"Time Required (Sequential):\", time_seq)\n",
    "\n",
    "    sorted_parallel, time_parallel = parallel_bubble_sort(array.copy())\n",
    "    print(\"Parallel Bubble Sort Result:\", sorted_parallel)\n",
    "    print(\"Time Required (Parallel):\", time_parallel)\n"
   ]
  },
  {
   "cell_type": "code",
   "execution_count": null,
   "id": "bcf07170",
   "metadata": {},
   "outputs": [],
   "source": []
  }
 ],
 "metadata": {
  "kernelspec": {
   "display_name": "Python 3 (ipykernel)",
   "language": "python",
   "name": "python3"
  }
 },
 "nbformat": 4,
 "nbformat_minor": 5
}
